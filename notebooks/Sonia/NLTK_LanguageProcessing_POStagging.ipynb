{
 "cells": [
  {
   "cell_type": "markdown",
   "metadata": {},
   "source": [
    "**Text categorizing and tagging words**\n",
    "\n",
    "The process of classifying words into their parts of speech and labelling them accordingly is known as part-of-speech taggin, POS-tagging"
   ]
  },
  {
   "cell_type": "code",
   "execution_count": 1,
   "metadata": {},
   "outputs": [
    {
     "data": {
      "text/plain": [
       "[('And', 'CC'),\n",
       " ('now', 'RB'),\n",
       " ('for', 'IN'),\n",
       " ('something', 'NN'),\n",
       " ('completely', 'RB'),\n",
       " ('different', 'JJ')]"
      ]
     },
     "execution_count": 1,
     "metadata": {},
     "output_type": "execute_result"
    }
   ],
   "source": [
    "import nltk\n",
    "\n",
    "text = nltk.word_tokenize(\"And now for something completely different\")\n",
    "nltk.pos_tag(text)"
   ]
  },
  {
   "cell_type": "code",
   "execution_count": 39,
   "metadata": {},
   "outputs": [
    {
     "data": {
      "text/plain": [
       "[('NOUN', 27),\n",
       " ('ADJ', 16),\n",
       " ('.', 16),\n",
       " ('VERB', 7),\n",
       " ('ADP', 7),\n",
       " ('CONJ', 5),\n",
       " ('DET', 3),\n",
       " ('ADV', 3),\n",
       " ('PRT', 1)]"
      ]
     },
     "execution_count": 39,
     "metadata": {},
     "output_type": "execute_result"
    }
   ],
   "source": [
    "# POS tagging\n",
    "\n",
    "text = '''Natural language processing (NLP) is a field of computer science, artificial intelligence  \n",
    "       and computational linguistics concerned with the interactions between computers and human \n",
    "       (natural) languages, and, in particular, concerned with programming computers to \n",
    "       fruitfully process large natural language corpora. Challenges in natural language \n",
    "       processing frequently involve natural language understanding, natural language \n",
    "       generation frequently from formal, machinereadable logical forms), connecting language  \n",
    "       and machine perception, managing human-computer dialog systems, or some combinationthereof.'''\n",
    "\n",
    "tk = nltk.word_tokenize(paragraph)\n",
    "answer = nltk.pos_tag(tk, tagset='universal')\n",
    "\n",
    "words = nltk.Text(word.lower() for word in nltk.corpus.brown.words())\n",
    "\n",
    "## expect return (in of to on for at as that with is or but was from when by it if the all)\n",
    "# words.similar('and')\n",
    "\n",
    "tag_2 = nltk.FreqDist(tag for (word, tag) in answer )\n",
    "tag_2.most_common()"
   ]
  },
  {
   "cell_type": "markdown",
   "metadata": {},
   "source": [
    "**Tagged Corpora** \n",
    "create taked using the function str2tuple()"
   ]
  },
  {
   "cell_type": "code",
   "execution_count": 25,
   "metadata": {},
   "outputs": [
    {
     "data": {
      "text/plain": [
       "[('Pierre', 'NOUN'), ('Vinken', 'NOUN'), (',', '.'), ...]"
      ]
     },
     "execution_count": 25,
     "metadata": {},
     "output_type": "execute_result"
    }
   ],
   "source": [
    "sent = '''\n",
    "The/AT grand/JJ jury/NN commented/VBD on/IN a/AT number/NN of/IN\n",
    "other/AP topics/NNS ,/, AMONG/IN them/PPO the/AT Atlanta/NP and/CC\n",
    "Fulton/NP-tl County/NN-tl purchasing/VBG departments/NNS which/WDT it/PPS\n",
    "said/VBD ``/`` ARE/BER well/QL operated/VBN and/CC follow/VB generally/RB\n",
    "accepted/VBN practices/NNS which/WDT inure/VB to/IN the/AT best/JJT\n",
    "interes/NN of/IN both/ABX governments/NNS ''/'' ./.\n",
    "'''\n",
    "[nltk.tag.str2tuple(t) for t in sent.split()]\n",
    "\n",
    "#reading from the tagged corpora\n",
    "nltk.corpus.brown.tagged_words()\n",
    "nltk.corpus.brown.tagged_words(tagset='universal')\n",
    "\n",
    "## Expect return of [('Pierre', 'NNP'), ('Vinken', 'NNP'), (',', ','), ...]\n",
    "nltk.corpus.treebank.tagged_words()\n",
    "\n",
    "## Expect returning data of  [('Pierre', 'NOUN'), ('Vinken', 'NOUN'), (',', '.'), ...]\n",
    "nltk.corpus.treebank.tagged_words(tagset = 'universal')\n",
    "\n",
    "## Also support different languages across libraries"
   ]
  },
  {
   "cell_type": "markdown",
   "metadata": {},
   "source": [
    "**Universal part-of-speech tagset**\n",
    "\n",
    "Tagged corrpora use many different conventions for taggin words."
   ]
  },
  {
   "cell_type": "code",
   "execution_count": 42,
   "metadata": {},
   "outputs": [
    {
     "data": {
      "text/plain": [
       "[('NOUN', 30654),\n",
       " ('VERB', 14399),\n",
       " ('ADP', 12355),\n",
       " ('.', 11928),\n",
       " ('DET', 11389),\n",
       " ('ADJ', 6706),\n",
       " ('ADV', 3349),\n",
       " ('CONJ', 2717),\n",
       " ('PRON', 2535),\n",
       " ('PRT', 2264),\n",
       " ('NUM', 2166),\n",
       " ('X', 92)]"
      ]
     },
     "execution_count": 42,
     "metadata": {},
     "output_type": "execute_result"
    }
   ],
   "source": [
    "from nltk.corpus import brown\n",
    "\n",
    "brown_news_tagged = brown.tagged_words(categories='news', tagset='universal')\n",
    "tag_fd = nltk.FreqDist(tag for (word, tag) in brown_news_tagged)\n",
    "tag_fd.most_common()\n"
   ]
  },
  {
   "cell_type": "markdown",
   "metadata": {},
   "source": [
    "**Noun and verbs**\n"
   ]
  },
  {
   "cell_type": "code",
   "execution_count": 50,
   "metadata": {},
   "outputs": [
    {
     "data": {
      "text/plain": [
       "['NOUN',\n",
       " 'DET',\n",
       " 'ADJ',\n",
       " 'ADP',\n",
       " '.',\n",
       " 'VERB',\n",
       " 'CONJ',\n",
       " 'NUM',\n",
       " 'ADV',\n",
       " 'PRT',\n",
       " 'PRON',\n",
       " 'X']"
      ]
     },
     "execution_count": 50,
     "metadata": {},
     "output_type": "execute_result"
    }
   ],
   "source": [
    "word_tag_pairs = nltk.bigrams(brown_news_tagged)\n",
    "noun_preceders = [a[1] for (a,b) in word_tag_pairs if b[1] =='NOUN']\n",
    "\n",
    "## Should return FreqDist({'NOUN': 7959, 'DET': 7373, 'ADJ': 4761, 'ADP': 3781, '.': 2796, 'VERB': 1842, 'CONJ': 938, 'NUM': 894, 'ADV': 186, 'PRT': 94, ...})\n",
    "fdist = nltk.FreqDist(noun_preceders)\n",
    "\n",
    "[tag for (tag, _) in fdist.most_common()]"
   ]
  },
  {
   "cell_type": "code",
   "execution_count": 66,
   "metadata": {},
   "outputs": [
    {
     "data": {
      "text/plain": [
       "[('VERB', 25), ('NOUN', 3)]"
      ]
     },
     "execution_count": 66,
     "metadata": {},
     "output_type": "execute_result"
    }
   ],
   "source": [
    "wsj = nltk.corpus.treebank.tagged_words(tagset='universal')\n",
    "word_tag_fd = nltk.FreqDist(wsj)\n",
    "\n",
    "# Return the list of common words in verbs : ['is', 'said', 'are', 'was', 'be', 'has', 'have', 'will', 'says', 'would',\n",
    "[wt[0] for (wt, _) in word_tag_fd.most_common() if wt[1] == 'VERB']\n",
    "\n",
    "cfd1 = nltk.ConditionalFreqDist(wsj)\n",
    "\n",
    "## Should return [('VERB', 28), ('NOUN', 20)]\n",
    "cfd1['yield'].most_common()\n",
    "\n",
    "## Should return [('VERB', 25), ('NOUN', 3)]\n",
    "cfd1['cut'].most_common()"
   ]
  },
  {
   "cell_type": "code",
   "execution_count": 79,
   "metadata": {},
   "outputs": [
    {
     "data": {
      "text/plain": [
       "[('head', 'NN'),\n",
       " ('of', 'IN'),\n",
       " ('state', 'NN'),\n",
       " ('has', 'VBZ'),\n",
       " ('kicked', 'VBN')]"
      ]
     },
     "execution_count": 79,
     "metadata": {},
     "output_type": "execute_result"
    }
   ],
   "source": [
    "# Looking through the list of words\n",
    "wsj = nltk.corpus.treebank.tagged_words()\n",
    "cfd1= nltk.ConditionalFreqDist((tag, word) for (word, tag) in wsj)\n",
    "\n",
    "## Should return ['been', 'expected', 'made', 'compared', 'based', 'priced', 'used', 'sold','named', 'designed', 'held', 'fined', 'taken', 'paid', 'traded', 'said', ...]\n",
    "list(cfd1['VBN'])\n",
    "\n",
    "## To clarify the distinction between VBD (past tense) and VBN (past principle)\n",
    "[w for w in cfd1.conditions() if 'VBD' in cfd1[w] and 'VBN' in cfd1[w]]\n",
    "\n",
    "# Should return [('While', 'IN'), ('program', 'NN'), ('trades', 'NNS'), ('swiftly', 'RB'), ('kicked', 'VBD')]\n",
    "idx1 = wsj.index(('kicked', 'VBD'))\n",
    "wsj[idx1-4:idx1+1]\n",
    "\n",
    "# Should return [('head', 'NN'), ('of', 'IN'), ('state', 'NN'), ('has', 'VBZ'), ('kicked', 'VBN')]\n",
    "idx2 = wsj.index(('kicked', 'VBN'))\n",
    "wsj[idx2-4:idx2+1]"
   ]
  },
  {
   "cell_type": "markdown",
   "metadata": {},
   "source": [
    "Adjectives and Adverbs\n"
   ]
  },
  {
   "cell_type": "markdown",
   "metadata": {},
   "source": [
    "UnSimplified tags"
   ]
  },
  {
   "cell_type": "code",
   "execution_count": 86,
   "metadata": {},
   "outputs": [
    {
     "name": "stdout",
     "output_type": "stream",
     "text": [
      "NN [('year', 137), ('time', 97), ('state', 88), ('week', 85), ('man', 72)]\n",
      "NN$ [(\"year's\", 13), (\"world's\", 8), (\"state's\", 7), (\"nation's\", 6), (\"city's\", 6)]\n",
      "NN$-HL [(\"Golf's\", 1), (\"Navy's\", 1)]\n",
      "NN$-TL [(\"President's\", 11), (\"Administration's\", 3), (\"Army's\", 3), (\"League's\", 3), (\"University's\", 3)]\n",
      "NN-HL [('sp.', 2), ('problem', 2), ('Question', 2), ('cut', 2), ('party', 2)]\n",
      "NN-NC [('ova', 1), ('eva', 1), ('aya', 1)]\n",
      "NN-TL [('President', 88), ('House', 68), ('State', 59), ('University', 42), ('City', 41)]\n",
      "NN-TL-HL [('Fort', 2), ('Mayor', 1), ('Commissioner', 1), ('City', 1), ('Oak', 1)]\n",
      "NNS [('years', 101), ('members', 69), ('people', 52), ('sales', 51), ('men', 46)]\n",
      "NNS$ [(\"children's\", 7), (\"women's\", 5), (\"men's\", 3), (\"janitors'\", 3), (\"taxpayers'\", 2)]\n",
      "NNS$-HL [(\"Dealers'\", 1), (\"Idols'\", 1)]\n",
      "NNS$-TL [(\"Women's\", 4), (\"States'\", 3), (\"Giants'\", 2), (\"Princes'\", 1), (\"Bombers'\", 1)]\n",
      "NNS-HL [('Wards', 1), ('deputies', 1), ('bonds', 1), ('aspects', 1), ('Decisions', 1)]\n",
      "NNS-TL [('States', 38), ('Nations', 11), ('Masters', 10), ('Communists', 9), ('Rules', 9)]\n",
      "NNS-TL-HL [('Nations', 1)]\n"
     ]
    }
   ],
   "source": [
    "\n",
    "def findTags(tag_prefix, tagged_text):\n",
    "    cfd = nltk.ConditionalFreqDist((tag, word) for (word, tag) in tagged_text \n",
    "                                  if tag.startswith(tag_prefix))\n",
    "    return dict((tag, cfd[tag].most_common(5)) for tag in cfd.conditions())\n",
    "\n",
    "tagdict = findTags('NN', nltk.corpus.brown.tagged_words(categories='news'))\n",
    "for tag in sorted(tagdict):\n",
    "    print(tag, tagdict[tag])\n"
   ]
  },
  {
   "cell_type": "markdown",
   "metadata": {},
   "source": [
    "**Exploring Tagged Corpora**\n"
   ]
  },
  {
   "cell_type": "code",
   "execution_count": 97,
   "metadata": {},
   "outputs": [
    {
     "name": "stdout",
     "output_type": "stream",
     "text": [
      "VERB  ADV  ADP  ADJ    .  PRT \n",
      "  37    8    7    6    4    2 \n"
     ]
    }
   ],
   "source": [
    "brown_learned_text = brown.words(categories='learned')\n",
    "\n",
    "## should return [',', '.', 'accomplished', 'analytically', 'appear', 'apt', 'associated', 'assuming','became', 'become', 'been', 'began', 'call', 'called', 'carefully', 'chose', ...]\n",
    "sorted(set(b for (a, b) in nltk.bigrams(brown_learned_text) if a == 'often'))\n",
    "\n",
    "brown_lrned_text = brown.tagged_words(categories='learned', tagset='universal')\n",
    "tags = [b[1]for (a,b) in nltk.bigrams(brown_lrned_text) if a[0] == 'often']\n",
    "\n",
    "fd = nltk.FreqDist(tags)\n",
    "fd.tabulate()"
   ]
  },
  {
   "cell_type": "code",
   "execution_count": 101,
   "metadata": {},
   "outputs": [
    {
     "ename": "NameError",
     "evalue": "name 'brwon_news_tagged' is not defined",
     "output_type": "error",
     "traceback": [
      "\u001b[1;31m---------------------------------------------------------------------------\u001b[0m",
      "\u001b[1;31mNameError\u001b[0m                                 Traceback (most recent call last)",
      "\u001b[1;32m<ipython-input-101-f823168a70ac>\u001b[0m in \u001b[0;36m<module>\u001b[1;34m\u001b[0m\n\u001b[0;32m     15\u001b[0m \u001b[0mbrown_news_tagged\u001b[0m \u001b[1;33m=\u001b[0m \u001b[0mbrown\u001b[0m\u001b[1;33m.\u001b[0m\u001b[0mtagged_words\u001b[0m\u001b[1;33m(\u001b[0m\u001b[0mcategories\u001b[0m\u001b[1;33m=\u001b[0m\u001b[1;34m'news'\u001b[0m\u001b[1;33m,\u001b[0m \u001b[0mtagset\u001b[0m\u001b[1;33m=\u001b[0m\u001b[1;34m'universal'\u001b[0m\u001b[1;33m)\u001b[0m\u001b[1;33m\u001b[0m\u001b[1;33m\u001b[0m\u001b[0m\n\u001b[0;32m     16\u001b[0m data = nltk.ConditionalFreqDist((word.lower(), tag)\n\u001b[1;32m---> 17\u001b[1;33m                                for (word, tag) in brwon_news_tagged)\n\u001b[0m\u001b[0;32m     18\u001b[0m \u001b[1;33m\u001b[0m\u001b[0m\n\u001b[0;32m     19\u001b[0m \u001b[1;32mfor\u001b[0m \u001b[0mword\u001b[0m \u001b[1;32min\u001b[0m \u001b[0msorted\u001b[0m\u001b[1;33m(\u001b[0m\u001b[0mdata\u001b[0m\u001b[1;33m.\u001b[0m\u001b[0mconditions\u001b[0m\u001b[1;33m(\u001b[0m\u001b[1;33m)\u001b[0m\u001b[1;33m)\u001b[0m\u001b[1;33m:\u001b[0m\u001b[1;33m\u001b[0m\u001b[1;33m\u001b[0m\u001b[0m\n",
      "\u001b[1;31mNameError\u001b[0m: name 'brwon_news_tagged' is not defined"
     ]
    }
   ],
   "source": [
    "##trigram\n",
    "\n",
    "from nltk.corpus import brown\n",
    "\n",
    "def process(sentence):\n",
    "    for (w1, t1), (w2,t2),(w3, t3) in nltk.trigrams(sentence):\n",
    "        if(t1.startswith('V') and 't2' =='TO' and t3.startswith('V')):\n",
    "            print(w1, w2, w3)\n",
    "\n",
    "for tagged_sent in brown.tagged_sents():\n",
    "    process(tagged_sent)\n",
    "    \n",
    "\n",
    "\n",
    "brown_news_tagged = brown.tagged_words(categories='news', tagset='universal')\n",
    "data = nltk.ConditionalFreqDist((word.lower(), tag)\n",
    "                               for (word, tag) in brwon_news_tagged)\n",
    "\n",
    "for word in sorted(data.conditions()):\n",
    "    if len(data[word]) >3:\n",
    "        tags = [tag for (tag, _) in data[word].most_common()]\n",
    "        print(word, ' '.join(tags))"
   ]
  }
 ],
 "metadata": {
  "kernelspec": {
   "display_name": "Python 3",
   "language": "python",
   "name": "python3"
  },
  "language_info": {
   "codemirror_mode": {
    "name": "ipython",
    "version": 3
   },
   "file_extension": ".py",
   "mimetype": "text/x-python",
   "name": "python",
   "nbconvert_exporter": "python",
   "pygments_lexer": "ipython3",
   "version": "3.7.7"
  }
 },
 "nbformat": 4,
 "nbformat_minor": 4
}
